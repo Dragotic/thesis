{
 "cells": [
  {
   "cell_type": "code",
   "execution_count": 1,
   "metadata": {
    "pycharm": {}
   },
   "outputs": [],
   "source": [
    "from neo4j import GraphDatabase\n",
    "\n",
    "user_id = 1110008753489760261\n",
    "tweet_id = 1109874238398320640\n",
    "politic_usa_id = 14792049\n",
    "\n",
    "uri = 'bolt://localhost:7687'\n",
    "driver = GraphDatabase.driver(uri)"
   ]
  },
  {
   "cell_type": "code",
   "execution_count": 2,
   "metadata": {
    "pycharm": {}
   },
   "outputs": [],
   "source": [
    "def retrieve_all_tweet_stories():\n",
    "    message = \"\"\"MATCH p=(end:Tweet)-[:REPLIED_TO|RETWEETED_FROM*]->(start:Tweet {type: 'TWEET'})\n",
    "                 WHERE NOT (start)-[:REPLIED_TO|RETWEETED_FROM]->() AND NOT ()-[:REPLIED_TO|RETWEETED_FROM]->(end)\n",
    "                 WITH *, relationships(p) AS r\n",
    "                 RETURN end.created_at, start.created_at, r\"\"\"\n",
    "    records = driver.session().run(message).data()\n",
    "    return records"
   ]
  },
  {
   "cell_type": "code",
   "execution_count": 3,
   "metadata": {
    "pycharm": {}
   },
   "outputs": [],
   "source": [
    "def retrieve_tweet_story(tweet_id):\n",
    "    message = \"\"\"MATCH p=(end:Tweet)-[:REPLIED_TO|RETWEETED_FROM*]->(start:Tweet {type: 'TWEET'})\n",
    "                 WHERE NOT (start)-[:REPLIED_TO|RETWEETED_FROM]->() AND NOT ()-[:REPLIED_TO|RETWEETED_FROM]->(end)\n",
    "                 AND start.id = {id}\n",
    "                 WITH *, relationships(p) AS r\n",
    "                 RETURN end.created_at, start.created_at, r\"\"\"\n",
    "    records = driver.session().run(message, id=tweet_id).data()\n",
    "    return records"
   ]
  },
  {
   "cell_type": "code",
   "execution_count": 4,
   "metadata": {
    "pycharm": {}
   },
   "outputs": [],
   "source": [
    "def retrieve_users_who_interacted_at_a_story(tweet_id):\n",
    "    message = \"\"\"MATCH u=(user:User)-[:TWEETED|POSTED_REPLY|POSTED_RETWEET]->(end:Tweet)-[:REPLIED_TO|RETWEETED_FROM*]->(start:Tweet)<-[:TWEETED]-(storyStarter:User)\n",
    "                 WHERE start.id = {id} AND (end.type = 'RETWEET' OR end.type = 'REPLY') AND start.type = 'TWEET'\n",
    "                 RETURN user, storyStarter\"\"\"\n",
    "    records = driver.session().run(message, id=tweet_id).data()\n",
    "    return records"
   ]
  },
  {
   "cell_type": "code",
   "execution_count": 5,
   "metadata": {
    "pycharm": {}
   },
   "outputs": [],
   "source": [
    "def retrieve_stories_where_user_is_involved(user_id):\n",
    "    message = \"\"\"MATCH u=(user:User)-[:TWEETED|POSTED_REPLY|POSTED_RETWEET]->(end:Tweet)-[:REPLIED_TO|RETWEETED_FROM*]->(start:Tweet)<-[:TWEETED]-(storyStarter:User)\n",
    "                 WHERE user.id = {id} or storyStarter.id = {id} AND (end.type = 'RETWEET' OR end.type = 'REPLY') AND start.type = 'TWEET'\n",
    "                 WITH *, relationships(u) as re\n",
    "                 RETURN end, re, start, user, storyStarter\"\"\"\n",
    "    records = driver.session().run(message, id=user_id).data()\n",
    "    return records"
   ]
  },
  {
   "cell_type": "code",
   "execution_count": 6,
   "metadata": {
    "pycharm": {}
   },
   "outputs": [],
   "source": [
    "def retrieve_tweet_chain_ordered_by_time(tweet_id):\n",
    "    # not needed, tweet chains are created in order in the first place\n",
    "    print()"
   ]
  },
  {
   "cell_type": "code",
   "execution_count": 7,
   "metadata": {
    "pycharm": {}
   },
   "outputs": [],
   "source": [
    "def retrieve_stories_made_by_user(user_id):\n",
    "    message = \"\"\"MATCH u=(user:User)-[:TWEETED]->(tweet:Tweet)\n",
    "                 WHERE user.id = {id}\n",
    "                 MATCH p=(end:Tweet)-[:REPLIED_TO|RETWEETED_FROM*]->(tweet:Tweet)\n",
    "                 WHERE end.type = 'RETWEET' OR end.type = 'REPLY' AND tweet.type = 'TWEET'\n",
    "                 RETURN u\"\"\"\n",
    "    records = driver.session().run(message, id=user_id).value()\n",
    "    return records"
   ]
  },
  {
   "cell_type": "code",
   "execution_count": 8,
   "metadata": {
    "pycharm": {}
   },
   "outputs": [],
   "source": [
    "def retrieve_time_spread_of_tweet_story(tweet_id):\n",
    "    records = retrieve_tweet_story(tweet_id)[0]\n",
    "    start_time = records['start.created_at']\n",
    "    end_time = records['end.created_at']\n",
    "    message = \"Original tweet was posted on %s. \\nLast available reaction was posted on %s.\" % (start_time, end_time)\n",
    "    \n",
    "    return message"
   ]
  },
  {
   "cell_type": "code",
   "execution_count": 9,
   "metadata": {},
   "outputs": [],
   "source": [
    "def trial_and_error(tweet_id):\n",
    "    message = \"\"\"MATCH u=(user:User)-[r:POSTED_REPLY|POSTED_RETWEET]->(end:Tweet)-[:REPLIED_TO|RETWEETED_FROM*]->(start:Tweet {id: {id}, type: 'TWEET'})<-[:TWEETED]-(storyStarter:User)\n",
    "                 WHERE end.type = 'RETWEET' OR end.type = 'REPLY'\n",
    "                 RETURN user, end.created_at as timestamp\"\"\"\n",
    "    records = driver.session().run(message, id=tweet_id).data()\n",
    "    return records"
   ]
  },
  {
   "cell_type": "code",
   "execution_count": 10,
   "metadata": {
    "pycharm": {}
   },
   "outputs": [
    {
     "name": "stdout",
     "output_type": "stream",
     "text": [
      "[{'user': <Node id=77671 labels={'User'} properties={'followers': 354, 'id': 1109874352479047680, 'screen_name': 'erinbaby', 'friends': 457}>, 'timestamp': 'Sun Mar 24 17:47:20 EET 2019'}, {'user': <Node id=77673 labels={'User'} properties={'followers': 2880, 'id': 1109874372754460675, 'screen_name': 'MiamiNice57', 'friends': 2787}>, 'timestamp': 'Sun Mar 24 17:47:25 EET 2019'}, {'user': <Node id=77675 labels={'User'} properties={'followers': 136, 'id': 1109874595203407874, 'screen_name': 'silverthornn264', 'friends': 216}>, 'timestamp': 'Sun Mar 24 17:48:18 EET 2019'}, {'user': <Node id=77677 labels={'User'} properties={'followers': 2863, 'id': 1109874851576188928, 'screen_name': 'MarianMme16513', 'friends': 4861}>, 'timestamp': 'Sun Mar 24 17:49:19 EET 2019'}, {'user': <Node id=77679 labels={'User'} properties={'followers': 173, 'id': 863156070482534400, 'screen_name': 'WhobbaBobba', 'friends': 86}>, 'timestamp': 'Sun Mar 24 17:49:21 EET 2019'}, {'user': <Node id=77681 labels={'User'} properties={'followers': 49, 'id': 1109874957553713153, 'screen_name': 'Hattonsu', 'friends': 303}>, 'timestamp': 'Sun Mar 24 17:49:45 EET 2019'}, {'user': <Node id=77683 labels={'User'} properties={'followers': 1274, 'id': 1109874979234029569, 'screen_name': 'vinkoview', 'friends': 5001}>, 'timestamp': 'Sun Mar 24 17:49:50 EET 2019'}, {'user': <Node id=77685 labels={'User'} properties={'followers': 2381, 'id': 16726866, 'screen_name': 'Mr_Scorpio', 'friends': 4589}>, 'timestamp': 'Sun Mar 24 17:51:50 EET 2019'}, {'user': <Node id=77687 labels={'User'} properties={'followers': 1557, 'id': 1109875544236150786, 'screen_name': 'violetcloudskye', 'friends': 1192}>, 'timestamp': 'Sun Mar 24 17:52:04 EET 2019'}, {'user': <Node id=77689 labels={'User'} properties={'followers': 202, 'id': 1109875550758277120, 'screen_name': 'Bgolden53', 'friends': 1313}>, 'timestamp': 'Sun Mar 24 17:52:06 EET 2019'}, {'user': <Node id=77691 labels={'User'} properties={'followers': 4532, 'id': 1109875713119649792, 'screen_name': 'sean_prevost', 'friends': 4956}>, 'timestamp': 'Sun Mar 24 17:52:45 EET 2019'}, {'user': <Node id=77693 labels={'User'} properties={'followers': 70, 'id': 1109876050262142982, 'screen_name': 'MSMABAILEY', 'friends': 495}>, 'timestamp': 'Sun Mar 24 17:54:05 EET 2019'}, {'user': <Node id=77695 labels={'User'} properties={'followers': 496, 'id': 1109876436423180290, 'screen_name': 'AwakenWholeness', 'friends': 1503}>, 'timestamp': 'Sun Mar 24 17:55:37 EET 2019'}, {'user': <Node id=77697 labels={'User'} properties={'followers': 572, 'id': 1109876629386465280, 'screen_name': 'maxthecat2000', 'friends': 706}>, 'timestamp': 'Sun Mar 24 17:56:23 EET 2019'}, {'user': <Node id=77699 labels={'User'} properties={'followers': 2113, 'id': 1109876756373270528, 'screen_name': 'MaryC_mlc4123', 'friends': 5001}>, 'timestamp': 'Sun Mar 24 17:56:53 EET 2019'}, {'user': <Node id=77701 labels={'User'} properties={'followers': 324, 'id': 1109878029080293377, 'screen_name': 'laleumen', 'friends': 1284}>, 'timestamp': 'Sun Mar 24 18:01:57 EET 2019'}, {'user': <Node id=77703 labels={'User'} properties={'followers': 35, 'id': 1109878301118496768, 'screen_name': 'syringa11', 'friends': 38}>, 'timestamp': 'Sun Mar 24 18:03:02 EET 2019'}, {'user': <Node id=77705 labels={'User'} properties={'followers': 191, 'id': 1109879459597950977, 'screen_name': 'PolitiSmoose672', 'friends': 104}>, 'timestamp': 'Sun Mar 24 18:07:38 EET 2019'}, {'user': <Node id=77707 labels={'User'} properties={'followers': 3553, 'id': 1109880014206631936, 'screen_name': 'wininmad', 'friends': 3469}>, 'timestamp': 'Sun Mar 24 18:09:50 EET 2019'}, {'user': <Node id=77709 labels={'User'} properties={'followers': 834, 'id': 1109881245255626753, 'screen_name': 'evaleegifford11', 'friends': 1432}>, 'timestamp': 'Sun Mar 24 18:14:44 EET 2019'}, {'user': <Node id=77711 labels={'User'} properties={'followers': 1435, 'id': 1109887751447592960, 'screen_name': 'genezog7', 'friends': 1764}>, 'timestamp': 'Sun Mar 24 18:40:35 EET 2019'}, {'user': <Node id=77713 labels={'User'} properties={'followers': 1837, 'id': 1109887873447129088, 'screen_name': '7dnetwork', 'friends': 3137}>, 'timestamp': 'Sun Mar 24 18:41:04 EET 2019'}, {'user': <Node id=77715 labels={'User'} properties={'followers': 505, 'id': 1109894770011357184, 'screen_name': 'princessearl1st', 'friends': 107}>, 'timestamp': 'Sun Mar 24 19:08:28 EET 2019'}, {'user': <Node id=77717 labels={'User'} properties={'followers': 30, 'id': 898905445, 'screen_name': 'LvnCali', 'friends': 83}>, 'timestamp': 'Sun Mar 24 19:10:47 EET 2019'}, {'user': <Node id=77717 labels={'User'} properties={'followers': 30, 'id': 898905445, 'screen_name': 'LvnCali', 'friends': 83}>, 'timestamp': 'Sun Mar 24 19:16:38 EET 2019'}, {'user': <Node id=77720 labels={'User'} properties={'followers': 6748, 'id': 1109897810256805896, 'screen_name': 'mcp_pol', 'friends': 7388}>, 'timestamp': 'Sun Mar 24 19:20:33 EET 2019'}, {'user': <Node id=77722 labels={'User'} properties={'followers': 2623, 'id': 1109901650335068161, 'screen_name': 'santo_aol', 'friends': 2657}>, 'timestamp': 'Sun Mar 24 19:35:49 EET 2019'}, {'user': <Node id=77724 labels={'User'} properties={'followers': 632, 'id': 1109902379913306112, 'screen_name': 'RBRB1516', 'friends': 1330}>, 'timestamp': 'Sun Mar 24 19:38:43 EET 2019'}, {'user': <Node id=77726 labels={'User'} properties={'followers': 1057, 'id': 1109903048313192448, 'screen_name': 'maggievoelker', 'friends': 2255}>, 'timestamp': 'Sun Mar 24 19:41:22 EET 2019'}, {'user': <Node id=77728 labels={'User'} properties={'followers': 1438, 'id': 1109903126549663744, 'screen_name': 'Johnnyrebaryah1', 'friends': 2854}>, 'timestamp': 'Sun Mar 24 19:41:41 EET 2019'}, {'user': <Node id=77730 labels={'User'} properties={'followers': 352, 'id': 1109904895308488705, 'screen_name': 'DianaSc99717236', 'friends': 282}>, 'timestamp': 'Sun Mar 24 19:48:42 EET 2019'}, {'user': <Node id=77732 labels={'User'} properties={'followers': 348, 'id': 1109909934035095558, 'screen_name': 'Planelady1', 'friends': 713}>, 'timestamp': 'Sun Mar 24 20:08:44 EET 2019'}, {'user': <Node id=77734 labels={'User'} properties={'followers': 8557, 'id': 216270430, 'screen_name': 'StockScout1', 'friends': 9403}>, 'timestamp': 'Sun Mar 24 23:41:58 EET 2019'}, {'user': <Node id=77736 labels={'User'} properties={'followers': 8557, 'id': 1109963731159654400, 'screen_name': 'StockScout1', 'friends': 9403}>, 'timestamp': 'Sun Mar 24 23:42:30 EET 2019'}, {'user': <Node id=77738 labels={'User'} properties={'followers': 1112, 'id': 1109965546789830656, 'screen_name': 'FrenchieCat', 'friends': 864}>, 'timestamp': 'Sun Mar 24 23:49:43 EET 2019'}, {'user': <Node id=77740 labels={'User'} properties={'followers': 8557, 'id': 1109966586956472357, 'screen_name': 'StockScout1', 'friends': 9404}>, 'timestamp': 'Sun Mar 24 23:53:51 EET 2019'}, {'user': <Node id=77742 labels={'User'} properties={'followers': 448, 'id': 1109970662674841600, 'screen_name': 'wil91116385', 'friends': 394}>, 'timestamp': 'Mon Mar 25 00:10:02 EET 2019'}, {'user': <Node id=77744 labels={'User'} properties={'followers': 2902, 'id': 1109973941756542976, 'screen_name': 'gaelbill', 'friends': 4915}>, 'timestamp': 'Mon Mar 25 00:23:04 EET 2019'}, {'user': <Node id=77746 labels={'User'} properties={'followers': 2902, 'id': 1109975236676669443, 'screen_name': 'gaelbill', 'friends': 4915}>, 'timestamp': 'Mon Mar 25 00:28:13 EET 2019'}, {'user': <Node id=77748 labels={'User'} properties={'followers': 2283, 'id': 1109975586049527809, 'screen_name': 'chatta_girl', 'friends': 1526}>, 'timestamp': 'Mon Mar 25 00:29:36 EET 2019'}, {'user': <Node id=77750 labels={'User'} properties={'followers': 1346, 'id': 1109981078276722689, 'screen_name': 'JohnnyHeldt', 'friends': 182}>, 'timestamp': 'Mon Mar 25 00:51:26 EET 2019'}, {'user': <Node id=77752 labels={'User'} properties={'followers': 4757, 'id': 1109995345608667137, 'screen_name': 'PolitJunkieM', 'friends': 5177}>, 'timestamp': 'Mon Mar 25 01:48:07 EET 2019'}, {'user': <Node id=77754 labels={'User'} properties={'followers': 455, 'id': 1109996429102071808, 'screen_name': 'HerculesOlesen', 'friends': 1287}>, 'timestamp': 'Mon Mar 25 01:52:26 EET 2019'}, {'user': <Node id=77756 labels={'User'} properties={'followers': 131, 'id': 16734034, 'screen_name': 'cornerboy102000', 'friends': 909}>, 'timestamp': 'Mon Mar 25 01:57:10 EET 2019'}, {'user': <Node id=77758 labels={'User'} properties={'followers': 238, 'id': 1109998814809587712, 'screen_name': 'purr10', 'friends': 525}>, 'timestamp': 'Mon Mar 25 02:01:54 EET 2019'}, {'user': <Node id=77760 labels={'User'} properties={'followers': 6, 'id': 1110001724687826947, 'screen_name': 'barbara_kobrin', 'friends': 106}>, 'timestamp': 'Mon Mar 25 02:13:28 EET 2019'}, {'user': <Node id=77762 labels={'User'} properties={'followers': 928, 'id': 1110005929465008128, 'screen_name': 'gramophoneman', 'friends': 638}>, 'timestamp': 'Mon Mar 25 02:30:11 EET 2019'}, {'user': <Node id=77764 labels={'User'} properties={'followers': 928, 'id': 119503063, 'screen_name': 'gramophoneman', 'friends': 638}>, 'timestamp': 'Mon Mar 25 02:31:06 EET 2019'}, {'user': <Node id=77766 labels={'User'} properties={'followers': 928, 'id': 1110006172814376964, 'screen_name': 'gramophoneman', 'friends': 638}>, 'timestamp': 'Mon Mar 25 02:31:09 EET 2019'}, {'user': <Node id=77768 labels={'User'} properties={'followers': 375, 'id': 1110008753489760261, 'screen_name': 'Longley321', 'friends': 284}>, 'timestamp': 'Mon Mar 25 02:41:24 EET 2019'}, {'user': <Node id=77770 labels={'User'} properties={'followers': 1416, 'id': 1110070654714433536, 'screen_name': 'Nedk30', 'friends': 366}>, 'timestamp': 'Mon Mar 25 06:47:22 EET 2019'}]\n"
     ]
    }
   ],
   "source": [
    "# print(retrieve_tweet_story(1109874238398320640))\n",
    "# print(retrieve_users_who_interacted_at_a_story(1109874238398320640))\n",
    "# for value in retrieve_stories_made_by_user(politic_usa_id):\n",
    "#     print(value)\n",
    "#     print(\"HELLO DARKNESS WORLD\")\n",
    "#     print(\"\\n\")\n",
    "\n",
    "# print(retrieve_time_spread_of_tweet_story(tweet_id))\n",
    "\n",
    "# print(retrieve_users_who_interacted_at_a_story(tweet_id))\n",
    "print(trial_and_error(tweet_id))\n"
   ]
  },
  {
   "cell_type": "code",
   "execution_count": null,
   "metadata": {
    "pycharm": {}
   },
   "outputs": [],
   "source": [
    "# MATCH u=(user:User)-[r:TWEETED|POSTED_REPLY|POSTED_RETWEET]->(end:Tweet)-[:REPLIED_TO|RETWEETED_FROM*]->(start:Tweet {id: 1109874238398320640, type: 'TWEET'})<-[:TWEETED]-(storyStarter:User)\n",
    "# WHERE end.type = 'RETWEET' OR end.type = 'REPLY'\n",
    "# WITH collect(user) as users, storyStarter, collect(end) as tweets, r, start\n",
    "# UNWIND users AS user\n",
    "# UNWIND tweets AS tweet\n",
    "# MATCH pa=(someone:User)-[:POSTED_REPLY|POSTED_RETWEET]->(post:Tweet)-[:REPLIED_TO|RETWEETED_FROM]->(tweet)<-[:POSTED_REPLY|POSTED_RETWEET]-(user)\n",
    "# WHERE post.created_at < tweet.created_at AND (exists((user)-[:FOLLOWS]->(someone)) OR exists((user)-[:FOLLOWS]->(storyStarter)))\n",
    "# RETURN someone, user\n"
   ]
  },
  {
   "cell_type": "code",
   "execution_count": null,
   "metadata": {
    "pycharm": {
     "metadata": false,
     "name": "#%%\n"
    }
   },
   "outputs": [],
   "source": [
    "# MATCH u=(user:User)-[r:TWEETED|POSTED_REPLY|POSTED_RETWEET]->(end:Tweet)-[:REPLIED_TO|RETWEETED_FROM*]->(start:Tweet {id: 1109874238398320640, type: 'TWEET'})<-[:TWEETED]-(storyStarter:User)\n",
    "# WHERE end.type = 'RETWEET' OR end.type = 'REPLY'\n",
    "# RETURN u\n"
   ]
  },
  {
   "cell_type": "code",
   "execution_count": null,
   "metadata": {
    "pycharm": {
     "metadata": false,
     "name": "#%%\n"
    }
   },
   "outputs": [],
   "source": [
    "# MATCH u=(user:User)-[r:TWEETED|POSTED_REPLY|POSTED_RETWEET]->(end:Tweet)-[:REPLIED_TO|RETWEETED_FROM*]->(start:Tweet {id: 1109874238398320640, type: 'TWEET'})<-[:TWEETED]-(storyStarter:User)\n",
    "# WHERE end.type = 'RETWEET' OR end.type = 'REPLY'\n",
    "# WITH collect(user) as users, storyStarter, collect(end) as tweets, r\n",
    "# RETURN users, storyStarter"
   ]
  },
  {
   "cell_type": "code",
   "execution_count": null,
   "metadata": {
    "pycharm": {
     "metadata": false,
     "name": "#%%\n"
    }
   },
   "outputs": [],
   "source": [
    "# MATCH u=(user:User)-[r:TWEETED|POSTED_REPLY|POSTED_RETWEET]->(end:Tweet)-[:REPLIED_TO|RETWEETED_FROM*]->(start:Tweet {id: 1109874238398320640, type: 'TWEET'})<-[:TWEETED]-(storyStarter:User)\n",
    "# WHERE end.type = 'RETWEET' OR end.type = 'REPLY'\n",
    "# WITH collect(user) as users, storyStarter, collect(end) as tweets, r, start\n",
    "# RETURN tweets, start"
   ]
  }
 ],
 "metadata": {
  "kernelspec": {
   "display_name": "Python 3",
   "language": "python",
   "name": "python3"
  },
  "language_info": {
   "codemirror_mode": {
    "name": "ipython",
    "version": 3
   },
   "file_extension": ".py",
   "mimetype": "text/x-python",
   "name": "python",
   "nbconvert_exporter": "python",
   "pygments_lexer": "ipython3",
   "version": "3.6.7"
  }
 },
 "nbformat": 4,
 "nbformat_minor": 2
}
