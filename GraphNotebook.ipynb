{
 "cells": [
  {
   "cell_type": "code",
   "execution_count": 34,
   "metadata": {},
   "outputs": [],
   "source": [
    "from neo4j import GraphDatabase\n",
    "\n",
    "user_id = 1110008753489760261\n",
    "tweet_id = 1109874238398320640\n",
    "politic_usa_id = 14792049\n",
    "\n",
    "uri = 'bolt://localhost:7687'\n",
    "driver = GraphDatabase.driver(uri)"
   ]
  },
  {
   "cell_type": "code",
   "execution_count": 35,
   "metadata": {},
   "outputs": [],
   "source": [
    "def retrieve_all_tweet_stories():\n",
    "    message = \"\"\"MATCH p=(end:Tweet)-[:REPLIED_TO|RETWEETED_FROM*]->(start:Tweet {type: 'TWEET'})\n",
    "                 WHERE NOT (start)-[:REPLIED_TO|RETWEETED_FROM]->() AND NOT ()-[:REPLIED_TO|RETWEETED_FROM]->(end)\n",
    "                 WITH *, relationships(p) AS r\n",
    "                 RETURN end.created_at, start.created_at, r\"\"\"\n",
    "    records = driver.session().run(message).data()\n",
    "    return records"
   ]
  },
  {
   "cell_type": "code",
   "execution_count": 69,
   "metadata": {},
   "outputs": [],
   "source": [
    "def retrieve_tweet_story(tweet_id):\n",
    "    message = \"\"\"MATCH p=(end:Tweet)-[:REPLIED_TO|RETWEETED_FROM*]->(start:Tweet {type: 'TWEET'})\n",
    "                 WHERE NOT (start)-[:REPLIED_TO|RETWEETED_FROM]->() AND NOT ()-[:REPLIED_TO|RETWEETED_FROM]->(end)\n",
    "                 AND start.id = {id}\n",
    "                 WITH *, relationships(p) AS r\n",
    "                 RETURN end.created_at, start.created_at, r\"\"\"\n",
    "    records = driver.session().run(message, id=tweet_id).data()\n",
    "    return records"
   ]
  },
  {
   "cell_type": "code",
   "execution_count": 37,
   "metadata": {},
   "outputs": [],
   "source": [
    "def retrieve_users_who_interacted_at_a_story(tweet_id):\n",
    "    message = \"\"\"MATCH u=(user:User)-[:TWEETED|POSTED_REPLY|POSTED_RETWEET]->(end:Tweet)-[:REPLIED_TO|RETWEETED_FROM*]->(start:Tweet)<-[:TWEETED]-(storyStarter:User)\n",
    "                 WHERE start.id = {id} AND (end.type = 'RETWEET' OR end.type = 'REPLY') AND start.type = 'TWEET'\n",
    "                 RETURN user, storyStarter\"\"\"\n",
    "    records = driver.session().run(message, id=tweet_id).data()\n",
    "    return records"
   ]
  },
  {
   "cell_type": "code",
   "execution_count": 38,
   "metadata": {},
   "outputs": [],
   "source": [
    "def retrieve_stories_where_user_is_involved(user_id):\n",
    "    message = \"\"\"MATCH u=(user:User)-[:TWEETED|POSTED_REPLY|POSTED_RETWEET]->(end:Tweet)-[:REPLIED_TO|RETWEETED_FROM*]->(start:Tweet)<-[:TWEETED]-(storyStarter:User)\n",
    "                 WHERE user.id = {id} or storyStarter.id = {id} AND (end.type = 'RETWEET' OR end.type = 'REPLY') AND start.type = 'TWEET'\n",
    "                 WITH *, relationships(u) as re\n",
    "                 RETURN end, re, start, user, storyStarter\"\"\"\n",
    "    records = driver.session().run(message, id=user_id).data()\n",
    "    return records"
   ]
  },
  {
   "cell_type": "code",
   "execution_count": 60,
   "metadata": {},
   "outputs": [],
   "source": [
    "def retrieve_tweet_chain_ordered_by_time(tweet_id):\n",
    "    # not needed, tweet chains are created in order in the first place\n",
    "    print()"
   ]
  },
  {
   "cell_type": "code",
   "execution_count": 58,
   "metadata": {},
   "outputs": [],
   "source": [
    "def retrieve_stories_made_by_user(user_id):\n",
    "    message = \"\"\"MATCH u=(user:User)-[:TWEETED]->(tweet:Tweet)\n",
    "                 WHERE user.id = {id}\n",
    "                 MATCH p=(end:Tweet)-[:REPLIED_TO|RETWEETED_FROM*]->(tweet:Tweet)\n",
    "                 WHERE end.type = 'RETWEET' OR end.type = 'REPLY' AND tweet.type = 'TWEET'\n",
    "                 RETURN u\"\"\"\n",
    "    records = driver.session().run(message, id=user_id).value()\n",
    "    return records"
   ]
  },
  {
   "cell_type": "code",
   "execution_count": 78,
   "metadata": {},
   "outputs": [],
   "source": [
    "def retrieve_time_spread_of_tweet_story(tweet_id):\n",
    "    records = retrieve_tweet_story(tweet_id)[0]\n",
    "    start_time = records['start.created_at']\n",
    "    end_time = records['end.created_at']\n",
    "    message = \"Original tweet was posted on %s. \\nLast available reaction was posted on %s.\" % (start_time, end_time)\n",
    "    \n",
    "    return message"
   ]
  },
  {
   "cell_type": "code",
   "execution_count": 79,
   "metadata": {},
   "outputs": [
    {
     "name": "stdout",
     "output_type": "stream",
     "text": [
      "Original tweet was posted on Sun Mar 24 17:46:53 EET 2019. \n",
      "Last available reaction was posted on Mon Mar 25 06:47:22 EET 2019.\n"
     ]
    }
   ],
   "source": [
    "# print(retrieve_tweet_story(1109874238398320640))\n",
    "# print(retrieve_users_who_interacted_at_a_story(1109874238398320640))\n",
    "# for value in retrieve_stories_made_by_user(politic_usa_id):\n",
    "#     print(value)\n",
    "#     print(\"HELLO DARKNESS WORLD\")\n",
    "#     print(\"\\n\")\n",
    "\n",
    "print(retrieve_time_spread_of_tweet_story(tweet_id))"
   ]
  },
  {
   "cell_type": "code",
   "execution_count": null,
   "metadata": {},
   "outputs": [],
   "source": []
  }
 ],
 "metadata": {
  "kernelspec": {
   "display_name": "Python 3",
   "language": "python",
   "name": "python3"
  },
  "language_info": {
   "codemirror_mode": {
    "name": "ipython",
    "version": 3
   },
   "file_extension": ".py",
   "mimetype": "text/x-python",
   "name": "python",
   "nbconvert_exporter": "python",
   "pygments_lexer": "ipython3",
   "version": "3.6.7"
  }
 },
 "nbformat": 4,
 "nbformat_minor": 2
}
