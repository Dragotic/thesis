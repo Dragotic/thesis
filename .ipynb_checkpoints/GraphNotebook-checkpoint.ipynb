{
 "cells": [
  {
   "cell_type": "code",
   "execution_count": 1,
   "metadata": {},
   "outputs": [],
   "source": [
    "from neo4j import GraphDatabase\n",
    "\n",
    "uri = 'bolt://localhost:7687'\n",
    "driver = GraphDatabase.driver(uri)\n",
    "\n",
    "message = \"\"\"MATCH p=(end:Tweet)-[:REPLIED_TO|RETWEETED_FROM*]->(start:Tweet {type: 'TWEET'})\n",
    "             WHERE NOT (start)-[:REPLIED_TO|RETWEETED_FROM]->() AND NOT ()-[:REPLIED_TO|RETWEETED_FROM]->(end)\n",
    "             WITH *, relationships(p) AS r\n",
    "             RETURN end.created_at, start.created_at, r\"\"\"\n",
    "values = driver.session().run(message).data()\n",
    "\n",
    "# print(len(values))\n",
    "# for value in values:\n",
    "#     print(value['r'])\n",
    "#     print(len(value['r']))\n",
    "#     for rel in value['r']:\n",
    "    \n",
    "#     print(\"\\n\")"
   ]
  },
  {
   "cell_type": "code",
   "execution_count": null,
   "metadata": {},
   "outputs": [],
   "source": [
    "def retrieve_all_tweet_stories():\n",
    "    message = \"\"\"MATCH p=(end:Tweet)-[:REPLIED_TO|RETWEETED_FROM*]->(start:Tweet {type: 'TWEET'})\n",
    "             WHERE NOT (start)-[:REPLIED_TO|RETWEETED_FROM]->() AND NOT ()-[:REPLIED_TO|RETWEETED_FROM]->(end)\n",
    "             WITH *, relationships(p) AS r\n",
    "             RETURN end.created_at, start.created_at, r\"\"\"\n",
    "    records = driver.session().run(message).data()\n",
    "    return records\n",
    "\n",
    "def retrieve_tweet_story(id):\n",
    "    message = \"\"\"MATCH p=(end:Tweet)-[:REPLIED_TO|RETWEETED_FROM*]->(start:Tweet {type: 'TWEET'})\n",
    "             WHERE NOT (start)-[:REPLIED_TO|RETWEETED_FROM]->() AND NOT ()-[:REPLIED_TO|RETWEETED_FROM]->(end)\n",
    "             AND start.id = {id}\n",
    "             WITH *, relationships(p) AS r\n",
    "             RETURN end.created_at, start.created_at, r\"\"\"\n",
    "    records = driver.session().run(message, id=id).data()\n",
    "    return records"
   ]
  },
  {
   "cell_type": "code",
   "execution_count": null,
   "metadata": {},
   "outputs": [],
   "source": []
  }
 ],
 "metadata": {
  "kernelspec": {
   "display_name": "Python 3",
   "language": "python",
   "name": "python3"
  },
  "language_info": {
   "codemirror_mode": {
    "name": "ipython",
    "version": 3
   },
   "file_extension": ".py",
   "mimetype": "text/x-python",
   "name": "python",
   "nbconvert_exporter": "python",
   "pygments_lexer": "ipython3",
   "version": "3.6.7"
  }
 },
 "nbformat": 4,
 "nbformat_minor": 2
}
