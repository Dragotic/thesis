{
 "cells": [
  {
   "cell_type": "code",
   "execution_count": 1,
   "metadata": {},
   "outputs": [],
   "source": [
    "from pyspark.sql import SparkSession"
   ]
  },
  {
   "cell_type": "code",
   "execution_count": 2,
   "metadata": {},
   "outputs": [],
   "source": [
    "spark = SparkSession.builder\\\n",
    "                    .appName('Analyzing tweet data')\\\n",
    "                    .getOrCreate()"
   ]
  },
  {
   "cell_type": "code",
   "execution_count": 3,
   "metadata": {},
   "outputs": [],
   "source": [
    "tweets = spark.read\\\n",
    "              .format('json')\\\n",
    "              .load('fake_tweets_flat.json')"
   ]
  },
  {
   "cell_type": "code",
   "execution_count": 4,
   "metadata": {},
   "outputs": [
    {
     "name": "stdout",
     "output_type": "stream",
     "text": [
      "root\n",
      " |-- created_at: string (nullable = true)\n",
      " |-- id: long (nullable = true)\n",
      " |-- in_reply_to_screen_name: string (nullable = true)\n",
      " |-- in_reply_to_status_id: long (nullable = true)\n",
      " |-- in_reply_to_user_id: long (nullable = true)\n",
      " |-- retweet_status: struct (nullable = true)\n",
      " |    |-- retweet_status_id: long (nullable = true)\n",
      " |    |-- retweet_status_text: string (nullable = true)\n",
      " |    |-- user: struct (nullable = true)\n",
      " |    |    |-- followers_count: long (nullable = true)\n",
      " |    |    |-- friends_count: long (nullable = true)\n",
      " |    |    |-- id: long (nullable = true)\n",
      " |    |    |-- screen_name: string (nullable = true)\n",
      " |    |    |-- verified: boolean (nullable = true)\n",
      " |-- text: string (nullable = true)\n",
      " |-- user: struct (nullable = true)\n",
      " |    |-- followers_count: long (nullable = true)\n",
      " |    |-- friends_count: long (nullable = true)\n",
      " |    |-- id: long (nullable = true)\n",
      " |    |-- screen_name: string (nullable = true)\n",
      " |    |-- verified: boolean (nullable = true)\n",
      "\n"
     ]
    }
   ],
   "source": [
    "tweets.printSchema()"
   ]
  },
  {
   "cell_type": "code",
   "execution_count": 5,
   "metadata": {},
   "outputs": [],
   "source": [
    "tweets.createOrReplaceTempView('tweets')"
   ]
  },
  {
   "cell_type": "code",
   "execution_count": 6,
   "metadata": {},
   "outputs": [],
   "source": [
    "tweets = spark.sql(\"SELECT * FROM tweets\")"
   ]
  },
  {
   "cell_type": "code",
   "execution_count": 7,
   "metadata": {},
   "outputs": [
    {
     "data": {
      "text/plain": [
       "1125806"
      ]
     },
     "execution_count": 7,
     "metadata": {},
     "output_type": "execute_result"
    }
   ],
   "source": [
    "tweets.count()"
   ]
  },
  {
   "cell_type": "code",
   "execution_count": 8,
   "metadata": {},
   "outputs": [
    {
     "data": {
      "text/html": [
       "<div>\n",
       "<style scoped>\n",
       "    .dataframe tbody tr th:only-of-type {\n",
       "        vertical-align: middle;\n",
       "    }\n",
       "\n",
       "    .dataframe tbody tr th {\n",
       "        vertical-align: top;\n",
       "    }\n",
       "\n",
       "    .dataframe thead th {\n",
       "        text-align: right;\n",
       "    }\n",
       "</style>\n",
       "<table border=\"1\" class=\"dataframe\">\n",
       "  <thead>\n",
       "    <tr style=\"text-align: right;\">\n",
       "      <th></th>\n",
       "      <th>created_at</th>\n",
       "      <th>id</th>\n",
       "      <th>in_reply_to_screen_name</th>\n",
       "      <th>in_reply_to_status_id</th>\n",
       "      <th>in_reply_to_user_id</th>\n",
       "      <th>retweet_status</th>\n",
       "      <th>text</th>\n",
       "      <th>user</th>\n",
       "    </tr>\n",
       "  </thead>\n",
       "  <tbody>\n",
       "    <tr>\n",
       "      <th>0</th>\n",
       "      <td>2019-02-11T18:05:26.000Z</td>\n",
       "      <td>1095021004450160641</td>\n",
       "      <td>None</td>\n",
       "      <td>NaN</td>\n",
       "      <td>NaN</td>\n",
       "      <td>(1094783344326397952, Album That Has Nothing O...</td>\n",
       "      <td>RT @TheOnion: Album That Has Nothing On Fleetw...</td>\n",
       "      <td>(84, 144, 3231436660, The_Aluise, False)</td>\n",
       "    </tr>\n",
       "    <tr>\n",
       "      <th>1</th>\n",
       "      <td>2019-02-11T18:05:26.000Z</td>\n",
       "      <td>1095021004865372160</td>\n",
       "      <td>BreitbartNews</td>\n",
       "      <td>1.095020e+18</td>\n",
       "      <td>457984599.0</td>\n",
       "      <td>None</td>\n",
       "      <td>@BreitbartNews Probably FL at least - they’ve ...</td>\n",
       "      <td>(1646, 839, 21609902, joseph12xu, False)</td>\n",
       "    </tr>\n",
       "    <tr>\n",
       "      <th>2</th>\n",
       "      <td>2019-02-11T18:05:29.000Z</td>\n",
       "      <td>1095021017666383872</td>\n",
       "      <td>BreitbartNews</td>\n",
       "      <td>1.095020e+18</td>\n",
       "      <td>457984599.0</td>\n",
       "      <td>None</td>\n",
       "      <td>@BreitbartNews This bonehead is smoking reefer...</td>\n",
       "      <td>(10, 53, 191896414, mk3200, False)</td>\n",
       "    </tr>\n",
       "    <tr>\n",
       "      <th>3</th>\n",
       "      <td>2019-02-11T18:05:52.000Z</td>\n",
       "      <td>1095021113736863744</td>\n",
       "      <td>None</td>\n",
       "      <td>NaN</td>\n",
       "      <td>NaN</td>\n",
       "      <td>(1095006313023787009, Survey Finds Many Gamers...</td>\n",
       "      <td>RT @TheOnion: Survey Finds Many Gamers Never F...</td>\n",
       "      <td>(3, 44, 1070355185531305986, Ya_Boyo, False)</td>\n",
       "    </tr>\n",
       "    <tr>\n",
       "      <th>4</th>\n",
       "      <td>2019-02-11T18:06:03.000Z</td>\n",
       "      <td>1095021159844904963</td>\n",
       "      <td>BreitbartNews</td>\n",
       "      <td>1.095014e+18</td>\n",
       "      <td>457984599.0</td>\n",
       "      <td>None</td>\n",
       "      <td>@BreitbartNews Yeah, its called weather.  I co...</td>\n",
       "      <td>(5562, 5648, 971194553024868354, Swesbutte, Fa...</td>\n",
       "    </tr>\n",
       "  </tbody>\n",
       "</table>\n",
       "</div>"
      ],
      "text/plain": [
       "                 created_at                   id in_reply_to_screen_name  \\\n",
       "0  2019-02-11T18:05:26.000Z  1095021004450160641                    None   \n",
       "1  2019-02-11T18:05:26.000Z  1095021004865372160           BreitbartNews   \n",
       "2  2019-02-11T18:05:29.000Z  1095021017666383872           BreitbartNews   \n",
       "3  2019-02-11T18:05:52.000Z  1095021113736863744                    None   \n",
       "4  2019-02-11T18:06:03.000Z  1095021159844904963           BreitbartNews   \n",
       "\n",
       "   in_reply_to_status_id  in_reply_to_user_id  \\\n",
       "0                    NaN                  NaN   \n",
       "1           1.095020e+18          457984599.0   \n",
       "2           1.095020e+18          457984599.0   \n",
       "3                    NaN                  NaN   \n",
       "4           1.095014e+18          457984599.0   \n",
       "\n",
       "                                      retweet_status  \\\n",
       "0  (1094783344326397952, Album That Has Nothing O...   \n",
       "1                                               None   \n",
       "2                                               None   \n",
       "3  (1095006313023787009, Survey Finds Many Gamers...   \n",
       "4                                               None   \n",
       "\n",
       "                                                text  \\\n",
       "0  RT @TheOnion: Album That Has Nothing On Fleetw...   \n",
       "1  @BreitbartNews Probably FL at least - they’ve ...   \n",
       "2  @BreitbartNews This bonehead is smoking reefer...   \n",
       "3  RT @TheOnion: Survey Finds Many Gamers Never F...   \n",
       "4  @BreitbartNews Yeah, its called weather.  I co...   \n",
       "\n",
       "                                                user  \n",
       "0           (84, 144, 3231436660, The_Aluise, False)  \n",
       "1           (1646, 839, 21609902, joseph12xu, False)  \n",
       "2                 (10, 53, 191896414, mk3200, False)  \n",
       "3       (3, 44, 1070355185531305986, Ya_Boyo, False)  \n",
       "4  (5562, 5648, 971194553024868354, Swesbutte, Fa...  "
      ]
     },
     "execution_count": 8,
     "metadata": {},
     "output_type": "execute_result"
    }
   ],
   "source": [
    "tweets.toPandas().head()"
   ]
  },
  {
   "cell_type": "code",
   "execution_count": 9,
   "metadata": {},
   "outputs": [],
   "source": [
    "tweets_flattened = tweets.withColumn('user_followers_count', tweets.user.followers_count)\\\n",
    "                         .withColumn('user_friends_count', tweets.user.friends_count)\\\n",
    "                         .withColumn('user_id', tweets.user.id)\\\n",
    "                         .withColumn('user_screen_name', tweets.user.screen_name)\\\n",
    "                         .withColumn('user_verified', tweets.user.verified)"
   ]
  },
  {
   "cell_type": "code",
   "execution_count": 10,
   "metadata": {},
   "outputs": [],
   "source": [
    "tweets_flattened = tweets_flattened.drop('user')"
   ]
  },
  {
   "cell_type": "code",
   "execution_count": 11,
   "metadata": {},
   "outputs": [
    {
     "data": {
      "text/html": [
       "<div>\n",
       "<style scoped>\n",
       "    .dataframe tbody tr th:only-of-type {\n",
       "        vertical-align: middle;\n",
       "    }\n",
       "\n",
       "    .dataframe tbody tr th {\n",
       "        vertical-align: top;\n",
       "    }\n",
       "\n",
       "    .dataframe thead th {\n",
       "        text-align: right;\n",
       "    }\n",
       "</style>\n",
       "<table border=\"1\" class=\"dataframe\">\n",
       "  <thead>\n",
       "    <tr style=\"text-align: right;\">\n",
       "      <th></th>\n",
       "      <th>created_at</th>\n",
       "      <th>id</th>\n",
       "      <th>in_reply_to_screen_name</th>\n",
       "      <th>in_reply_to_status_id</th>\n",
       "      <th>in_reply_to_user_id</th>\n",
       "      <th>retweet_status</th>\n",
       "      <th>text</th>\n",
       "      <th>user_followers_count</th>\n",
       "      <th>user_friends_count</th>\n",
       "      <th>user_id</th>\n",
       "      <th>user_screen_name</th>\n",
       "      <th>user_verified</th>\n",
       "    </tr>\n",
       "  </thead>\n",
       "  <tbody>\n",
       "    <tr>\n",
       "      <th>0</th>\n",
       "      <td>2019-02-11T18:05:26.000Z</td>\n",
       "      <td>1095021004450160641</td>\n",
       "      <td>None</td>\n",
       "      <td>NaN</td>\n",
       "      <td>NaN</td>\n",
       "      <td>(1094783344326397952, Album That Has Nothing O...</td>\n",
       "      <td>RT @TheOnion: Album That Has Nothing On Fleetw...</td>\n",
       "      <td>84</td>\n",
       "      <td>144</td>\n",
       "      <td>3231436660</td>\n",
       "      <td>The_Aluise</td>\n",
       "      <td>False</td>\n",
       "    </tr>\n",
       "    <tr>\n",
       "      <th>1</th>\n",
       "      <td>2019-02-11T18:05:26.000Z</td>\n",
       "      <td>1095021004865372160</td>\n",
       "      <td>BreitbartNews</td>\n",
       "      <td>1.095020e+18</td>\n",
       "      <td>457984599.0</td>\n",
       "      <td>None</td>\n",
       "      <td>@BreitbartNews Probably FL at least - they’ve ...</td>\n",
       "      <td>1646</td>\n",
       "      <td>839</td>\n",
       "      <td>21609902</td>\n",
       "      <td>joseph12xu</td>\n",
       "      <td>False</td>\n",
       "    </tr>\n",
       "    <tr>\n",
       "      <th>2</th>\n",
       "      <td>2019-02-11T18:05:29.000Z</td>\n",
       "      <td>1095021017666383872</td>\n",
       "      <td>BreitbartNews</td>\n",
       "      <td>1.095020e+18</td>\n",
       "      <td>457984599.0</td>\n",
       "      <td>None</td>\n",
       "      <td>@BreitbartNews This bonehead is smoking reefer...</td>\n",
       "      <td>10</td>\n",
       "      <td>53</td>\n",
       "      <td>191896414</td>\n",
       "      <td>mk3200</td>\n",
       "      <td>False</td>\n",
       "    </tr>\n",
       "    <tr>\n",
       "      <th>3</th>\n",
       "      <td>2019-02-11T18:05:52.000Z</td>\n",
       "      <td>1095021113736863744</td>\n",
       "      <td>None</td>\n",
       "      <td>NaN</td>\n",
       "      <td>NaN</td>\n",
       "      <td>(1095006313023787009, Survey Finds Many Gamers...</td>\n",
       "      <td>RT @TheOnion: Survey Finds Many Gamers Never F...</td>\n",
       "      <td>3</td>\n",
       "      <td>44</td>\n",
       "      <td>1070355185531305986</td>\n",
       "      <td>Ya_Boyo</td>\n",
       "      <td>False</td>\n",
       "    </tr>\n",
       "    <tr>\n",
       "      <th>4</th>\n",
       "      <td>2019-02-11T18:06:03.000Z</td>\n",
       "      <td>1095021159844904963</td>\n",
       "      <td>BreitbartNews</td>\n",
       "      <td>1.095014e+18</td>\n",
       "      <td>457984599.0</td>\n",
       "      <td>None</td>\n",
       "      <td>@BreitbartNews Yeah, its called weather.  I co...</td>\n",
       "      <td>5562</td>\n",
       "      <td>5648</td>\n",
       "      <td>971194553024868354</td>\n",
       "      <td>Swesbutte</td>\n",
       "      <td>False</td>\n",
       "    </tr>\n",
       "  </tbody>\n",
       "</table>\n",
       "</div>"
      ],
      "text/plain": [
       "                 created_at                   id in_reply_to_screen_name  \\\n",
       "0  2019-02-11T18:05:26.000Z  1095021004450160641                    None   \n",
       "1  2019-02-11T18:05:26.000Z  1095021004865372160           BreitbartNews   \n",
       "2  2019-02-11T18:05:29.000Z  1095021017666383872           BreitbartNews   \n",
       "3  2019-02-11T18:05:52.000Z  1095021113736863744                    None   \n",
       "4  2019-02-11T18:06:03.000Z  1095021159844904963           BreitbartNews   \n",
       "\n",
       "   in_reply_to_status_id  in_reply_to_user_id  \\\n",
       "0                    NaN                  NaN   \n",
       "1           1.095020e+18          457984599.0   \n",
       "2           1.095020e+18          457984599.0   \n",
       "3                    NaN                  NaN   \n",
       "4           1.095014e+18          457984599.0   \n",
       "\n",
       "                                      retweet_status  \\\n",
       "0  (1094783344326397952, Album That Has Nothing O...   \n",
       "1                                               None   \n",
       "2                                               None   \n",
       "3  (1095006313023787009, Survey Finds Many Gamers...   \n",
       "4                                               None   \n",
       "\n",
       "                                                text  user_followers_count  \\\n",
       "0  RT @TheOnion: Album That Has Nothing On Fleetw...                    84   \n",
       "1  @BreitbartNews Probably FL at least - they’ve ...                  1646   \n",
       "2  @BreitbartNews This bonehead is smoking reefer...                    10   \n",
       "3  RT @TheOnion: Survey Finds Many Gamers Never F...                     3   \n",
       "4  @BreitbartNews Yeah, its called weather.  I co...                  5562   \n",
       "\n",
       "   user_friends_count              user_id user_screen_name  user_verified  \n",
       "0                 144           3231436660       The_Aluise          False  \n",
       "1                 839             21609902       joseph12xu          False  \n",
       "2                  53            191896414           mk3200          False  \n",
       "3                  44  1070355185531305986          Ya_Boyo          False  \n",
       "4                5648   971194553024868354        Swesbutte          False  "
      ]
     },
     "execution_count": 11,
     "metadata": {},
     "output_type": "execute_result"
    }
   ],
   "source": [
    "tweets_flattened.toPandas().head()"
   ]
  },
  {
   "cell_type": "markdown",
   "metadata": {},
   "source": [
    "### Find original posts"
   ]
  },
  {
   "cell_type": "code",
   "execution_count": 12,
   "metadata": {},
   "outputs": [],
   "source": [
    "tweets_flattened.createOrReplaceTempView('tweets_flattened')"
   ]
  },
  {
   "cell_type": "code",
   "execution_count": 13,
   "metadata": {},
   "outputs": [],
   "source": [
    "original_posts = spark.sql(\n",
    "        \"\"\"\n",
    "            SELECT * \n",
    "            FROM tweets_flattened \n",
    "            WHERE retweet_status IS NULL AND in_reply_to_status_id IS NULL\n",
    "        \"\"\")"
   ]
  },
  {
   "cell_type": "code",
   "execution_count": 14,
   "metadata": {},
   "outputs": [
    {
     "data": {
      "text/html": [
       "<div>\n",
       "<style scoped>\n",
       "    .dataframe tbody tr th:only-of-type {\n",
       "        vertical-align: middle;\n",
       "    }\n",
       "\n",
       "    .dataframe tbody tr th {\n",
       "        vertical-align: top;\n",
       "    }\n",
       "\n",
       "    .dataframe thead th {\n",
       "        text-align: right;\n",
       "    }\n",
       "</style>\n",
       "<table border=\"1\" class=\"dataframe\">\n",
       "  <thead>\n",
       "    <tr style=\"text-align: right;\">\n",
       "      <th></th>\n",
       "      <th>created_at</th>\n",
       "      <th>id</th>\n",
       "      <th>in_reply_to_screen_name</th>\n",
       "      <th>in_reply_to_status_id</th>\n",
       "      <th>in_reply_to_user_id</th>\n",
       "      <th>retweet_status</th>\n",
       "      <th>text</th>\n",
       "      <th>user_followers_count</th>\n",
       "      <th>user_friends_count</th>\n",
       "      <th>user_id</th>\n",
       "      <th>user_screen_name</th>\n",
       "      <th>user_verified</th>\n",
       "    </tr>\n",
       "  </thead>\n",
       "  <tbody>\n",
       "    <tr>\n",
       "      <th>0</th>\n",
       "      <td>2019-02-11T18:42:33.000Z</td>\n",
       "      <td>1095030343944597509</td>\n",
       "      <td>None</td>\n",
       "      <td>None</td>\n",
       "      <td>NaN</td>\n",
       "      <td>None</td>\n",
       "      <td>Pelosi And House Leadership Demand Rep. Omar A...</td>\n",
       "      <td>68440</td>\n",
       "      <td>4027</td>\n",
       "      <td>14792049</td>\n",
       "      <td>politicususa</td>\n",
       "      <td>False</td>\n",
       "    </tr>\n",
       "    <tr>\n",
       "      <th>1</th>\n",
       "      <td>2019-02-11T18:44:13.000Z</td>\n",
       "      <td>1095030762628239360</td>\n",
       "      <td>None</td>\n",
       "      <td>None</td>\n",
       "      <td>NaN</td>\n",
       "      <td>None</td>\n",
       "      <td>The way this idiot defends Traitor Trump and p...</td>\n",
       "      <td>44527</td>\n",
       "      <td>39</td>\n",
       "      <td>878284831</td>\n",
       "      <td>OccupyDemocrats</td>\n",
       "      <td>False</td>\n",
       "    </tr>\n",
       "    <tr>\n",
       "      <th>2</th>\n",
       "      <td>2019-02-11T18:58:04.000Z</td>\n",
       "      <td>1095034250527731718</td>\n",
       "      <td>None</td>\n",
       "      <td>None</td>\n",
       "      <td>NaN</td>\n",
       "      <td>None</td>\n",
       "      <td>American People Hire High-Powered Lobbyist To ...</td>\n",
       "      <td>11028654</td>\n",
       "      <td>14</td>\n",
       "      <td>14075928</td>\n",
       "      <td>TheOnion</td>\n",
       "      <td>True</td>\n",
       "    </tr>\n",
       "    <tr>\n",
       "      <th>3</th>\n",
       "      <td>2019-02-11T19:02:39.000Z</td>\n",
       "      <td>1095035401255993349</td>\n",
       "      <td>TheOnion</td>\n",
       "      <td>None</td>\n",
       "      <td>14075928.0</td>\n",
       "      <td>None</td>\n",
       "      <td>@TheOnion hits another one out of the park</td>\n",
       "      <td>300</td>\n",
       "      <td>177</td>\n",
       "      <td>14631584</td>\n",
       "      <td>msiniscalchi</td>\n",
       "      <td>False</td>\n",
       "    </tr>\n",
       "    <tr>\n",
       "      <th>4</th>\n",
       "      <td>2019-02-11T19:12:19.000Z</td>\n",
       "      <td>1095037837211246592</td>\n",
       "      <td>BreitbartNews</td>\n",
       "      <td>None</td>\n",
       "      <td>457984599.0</td>\n",
       "      <td>None</td>\n",
       "      <td>@BreitbartNews PLEASE PAY ATTENTION-All these ...</td>\n",
       "      <td>131</td>\n",
       "      <td>156</td>\n",
       "      <td>27843452</td>\n",
       "      <td>itsnotme82</td>\n",
       "      <td>False</td>\n",
       "    </tr>\n",
       "  </tbody>\n",
       "</table>\n",
       "</div>"
      ],
      "text/plain": [
       "                 created_at                   id in_reply_to_screen_name  \\\n",
       "0  2019-02-11T18:42:33.000Z  1095030343944597509                    None   \n",
       "1  2019-02-11T18:44:13.000Z  1095030762628239360                    None   \n",
       "2  2019-02-11T18:58:04.000Z  1095034250527731718                    None   \n",
       "3  2019-02-11T19:02:39.000Z  1095035401255993349                TheOnion   \n",
       "4  2019-02-11T19:12:19.000Z  1095037837211246592           BreitbartNews   \n",
       "\n",
       "  in_reply_to_status_id  in_reply_to_user_id retweet_status  \\\n",
       "0                  None                  NaN           None   \n",
       "1                  None                  NaN           None   \n",
       "2                  None                  NaN           None   \n",
       "3                  None           14075928.0           None   \n",
       "4                  None          457984599.0           None   \n",
       "\n",
       "                                                text  user_followers_count  \\\n",
       "0  Pelosi And House Leadership Demand Rep. Omar A...                 68440   \n",
       "1  The way this idiot defends Traitor Trump and p...                 44527   \n",
       "2  American People Hire High-Powered Lobbyist To ...              11028654   \n",
       "3         @TheOnion hits another one out of the park                   300   \n",
       "4  @BreitbartNews PLEASE PAY ATTENTION-All these ...                   131   \n",
       "\n",
       "   user_friends_count    user_id user_screen_name  user_verified  \n",
       "0                4027   14792049     politicususa          False  \n",
       "1                  39  878284831  OccupyDemocrats          False  \n",
       "2                  14   14075928         TheOnion           True  \n",
       "3                 177   14631584     msiniscalchi          False  \n",
       "4                 156   27843452       itsnotme82          False  "
      ]
     },
     "execution_count": 14,
     "metadata": {},
     "output_type": "execute_result"
    }
   ],
   "source": [
    "original_posts.toPandas().head()"
   ]
  },
  {
   "cell_type": "code",
   "execution_count": 15,
   "metadata": {},
   "outputs": [
    {
     "data": {
      "text/plain": [
       "540"
      ]
     },
     "execution_count": 15,
     "metadata": {},
     "output_type": "execute_result"
    }
   ],
   "source": [
    "original_posts.count()"
   ]
  },
  {
   "cell_type": "code",
   "execution_count": 16,
   "metadata": {},
   "outputs": [],
   "source": [
    "original_posts = original_posts.dropDuplicates(['id'])\n",
    "original_posts.createOrReplaceTempView('original_posts')"
   ]
  },
  {
   "cell_type": "code",
   "execution_count": 17,
   "metadata": {},
   "outputs": [],
   "source": [
    "original_posts_ids = spark.sql(\"SELECT id FROM original_posts\")"
   ]
  },
  {
   "cell_type": "code",
   "execution_count": 18,
   "metadata": {},
   "outputs": [
    {
     "name": "stdout",
     "output_type": "stream",
     "text": [
      "+-------------------+\n",
      "|                 id|\n",
      "+-------------------+\n",
      "|1095076720347172865|\n",
      "|1095117541448531970|\n",
      "|1095428960543035393|\n",
      "|1095480534170460161|\n",
      "|1095704714199605248|\n",
      "|1095441057297453056|\n",
      "|1095495793593671681|\n",
      "|1095855394994511872|\n",
      "|1096054808140808192|\n",
      "|1095042250176897024|\n",
      "|1095206727643992064|\n",
      "|1095658642576166913|\n",
      "|1095730156755472385|\n",
      "|1095919633436094465|\n",
      "|1095321830724907008|\n",
      "|1095837870428954624|\n",
      "|1096084185008230400|\n",
      "|1095087361925439488|\n",
      "|1095111057171931136|\n",
      "|1095175072984326144|\n",
      "+-------------------+\n",
      "only showing top 20 rows\n",
      "\n"
     ]
    }
   ],
   "source": [
    "original_posts_ids.show()"
   ]
  },
  {
   "cell_type": "markdown",
   "metadata": {},
   "source": [
    "### Find all retweets"
   ]
  },
  {
   "cell_type": "code",
   "execution_count": 19,
   "metadata": {},
   "outputs": [],
   "source": [
    "retweet_posts = spark.sql(\n",
    "        \"\"\"\n",
    "            SELECT * \n",
    "            FROM tweets_flattened \n",
    "            WHERE retweet_status IS NOT NULL\n",
    "        \"\"\")"
   ]
  },
  {
   "cell_type": "code",
   "execution_count": 20,
   "metadata": {},
   "outputs": [
    {
     "data": {
      "text/plain": [
       "1104500"
      ]
     },
     "execution_count": 20,
     "metadata": {},
     "output_type": "execute_result"
    }
   ],
   "source": [
    "retweet_posts.count()"
   ]
  },
  {
   "cell_type": "code",
   "execution_count": 24,
   "metadata": {},
   "outputs": [
    {
     "data": {
      "text/plain": [
       "70869"
      ]
     },
     "execution_count": 24,
     "metadata": {},
     "output_type": "execute_result"
    }
   ],
   "source": [
    "retweet_posts = retweet_posts.dropDuplicates(['id'])\n",
    "retweet_posts.count()"
   ]
  },
  {
   "cell_type": "code",
   "execution_count": 25,
   "metadata": {},
   "outputs": [],
   "source": [
    "retweet_posts.createOrReplaceTempView('retweet_posts')"
   ]
  },
  {
   "cell_type": "markdown",
   "metadata": {},
   "source": [
    "### Keep only the retweet posts for which we have the original tweet"
   ]
  },
  {
   "cell_type": "code",
   "execution_count": 39,
   "metadata": {},
   "outputs": [],
   "source": [
    "retweet_posts = spark.sql(\n",
    "    \"\"\"\n",
    "        SELECT * \n",
    "        FROM retweet_posts\n",
    "        WHERE retweet_posts.retweet_status.retweet_status_id IN (SELECT id FROM original_posts)\n",
    "    \"\"\")"
   ]
  },
  {
   "cell_type": "code",
   "execution_count": 40,
   "metadata": {},
   "outputs": [
    {
     "data": {
      "text/html": [
       "<div>\n",
       "<style scoped>\n",
       "    .dataframe tbody tr th:only-of-type {\n",
       "        vertical-align: middle;\n",
       "    }\n",
       "\n",
       "    .dataframe tbody tr th {\n",
       "        vertical-align: top;\n",
       "    }\n",
       "\n",
       "    .dataframe thead th {\n",
       "        text-align: right;\n",
       "    }\n",
       "</style>\n",
       "<table border=\"1\" class=\"dataframe\">\n",
       "  <thead>\n",
       "    <tr style=\"text-align: right;\">\n",
       "      <th></th>\n",
       "      <th>created_at</th>\n",
       "      <th>id</th>\n",
       "      <th>in_reply_to_screen_name</th>\n",
       "      <th>in_reply_to_status_id</th>\n",
       "      <th>in_reply_to_user_id</th>\n",
       "      <th>retweet_status</th>\n",
       "      <th>text</th>\n",
       "      <th>user_followers_count</th>\n",
       "      <th>user_friends_count</th>\n",
       "      <th>user_id</th>\n",
       "      <th>user_screen_name</th>\n",
       "      <th>user_verified</th>\n",
       "    </tr>\n",
       "  </thead>\n",
       "  <tbody>\n",
       "    <tr>\n",
       "      <th>0</th>\n",
       "      <td>2019-02-12T00:40:43.000Z</td>\n",
       "      <td>1095120478677712896</td>\n",
       "      <td>None</td>\n",
       "      <td>None</td>\n",
       "      <td>None</td>\n",
       "      <td>(1095117541448531970, Man To Continue Slowly D...</td>\n",
       "      <td>RT @TheOnion: Man To Continue Slowly Drifting ...</td>\n",
       "      <td>169</td>\n",
       "      <td>260</td>\n",
       "      <td>3196872127</td>\n",
       "      <td>carnolld</td>\n",
       "      <td>False</td>\n",
       "    </tr>\n",
       "    <tr>\n",
       "      <th>1</th>\n",
       "      <td>2019-02-12T04:48:56.000Z</td>\n",
       "      <td>1095182944799318018</td>\n",
       "      <td>None</td>\n",
       "      <td>None</td>\n",
       "      <td>None</td>\n",
       "      <td>(1095117541448531970, Man To Continue Slowly D...</td>\n",
       "      <td>RT @TheOnion: Man To Continue Slowly Drifting ...</td>\n",
       "      <td>2</td>\n",
       "      <td>22</td>\n",
       "      <td>820308956518219776</td>\n",
       "      <td>kschool713</td>\n",
       "      <td>False</td>\n",
       "    </tr>\n",
       "    <tr>\n",
       "      <th>2</th>\n",
       "      <td>2019-02-12T02:51:10.000Z</td>\n",
       "      <td>1095153310888284160</td>\n",
       "      <td>None</td>\n",
       "      <td>None</td>\n",
       "      <td>None</td>\n",
       "      <td>(1095117541448531970, Man To Continue Slowly D...</td>\n",
       "      <td>RT @TheOnion: Man To Continue Slowly Drifting ...</td>\n",
       "      <td>405</td>\n",
       "      <td>1437</td>\n",
       "      <td>112917372</td>\n",
       "      <td>KoozieMan</td>\n",
       "      <td>False</td>\n",
       "    </tr>\n",
       "    <tr>\n",
       "      <th>3</th>\n",
       "      <td>2019-02-13T04:48:44.000Z</td>\n",
       "      <td>1095545282211659781</td>\n",
       "      <td>None</td>\n",
       "      <td>None</td>\n",
       "      <td>None</td>\n",
       "      <td>(1095117541448531970, Man To Continue Slowly D...</td>\n",
       "      <td>RT @TheOnion: Man To Continue Slowly Drifting ...</td>\n",
       "      <td>17</td>\n",
       "      <td>54</td>\n",
       "      <td>529066803</td>\n",
       "      <td>thatsarahkeenan</td>\n",
       "      <td>False</td>\n",
       "    </tr>\n",
       "    <tr>\n",
       "      <th>4</th>\n",
       "      <td>2019-02-12T00:37:14.000Z</td>\n",
       "      <td>1095119601883643904</td>\n",
       "      <td>None</td>\n",
       "      <td>None</td>\n",
       "      <td>None</td>\n",
       "      <td>(1095117541448531970, Man To Continue Slowly D...</td>\n",
       "      <td>RT @TheOnion: Man To Continue Slowly Drifting ...</td>\n",
       "      <td>274</td>\n",
       "      <td>780</td>\n",
       "      <td>245918943</td>\n",
       "      <td>zoli_bojtos</td>\n",
       "      <td>False</td>\n",
       "    </tr>\n",
       "  </tbody>\n",
       "</table>\n",
       "</div>"
      ],
      "text/plain": [
       "                 created_at                   id in_reply_to_screen_name  \\\n",
       "0  2019-02-12T00:40:43.000Z  1095120478677712896                    None   \n",
       "1  2019-02-12T04:48:56.000Z  1095182944799318018                    None   \n",
       "2  2019-02-12T02:51:10.000Z  1095153310888284160                    None   \n",
       "3  2019-02-13T04:48:44.000Z  1095545282211659781                    None   \n",
       "4  2019-02-12T00:37:14.000Z  1095119601883643904                    None   \n",
       "\n",
       "  in_reply_to_status_id in_reply_to_user_id  \\\n",
       "0                  None                None   \n",
       "1                  None                None   \n",
       "2                  None                None   \n",
       "3                  None                None   \n",
       "4                  None                None   \n",
       "\n",
       "                                      retweet_status  \\\n",
       "0  (1095117541448531970, Man To Continue Slowly D...   \n",
       "1  (1095117541448531970, Man To Continue Slowly D...   \n",
       "2  (1095117541448531970, Man To Continue Slowly D...   \n",
       "3  (1095117541448531970, Man To Continue Slowly D...   \n",
       "4  (1095117541448531970, Man To Continue Slowly D...   \n",
       "\n",
       "                                                text  user_followers_count  \\\n",
       "0  RT @TheOnion: Man To Continue Slowly Drifting ...                   169   \n",
       "1  RT @TheOnion: Man To Continue Slowly Drifting ...                     2   \n",
       "2  RT @TheOnion: Man To Continue Slowly Drifting ...                   405   \n",
       "3  RT @TheOnion: Man To Continue Slowly Drifting ...                    17   \n",
       "4  RT @TheOnion: Man To Continue Slowly Drifting ...                   274   \n",
       "\n",
       "   user_friends_count             user_id user_screen_name  user_verified  \n",
       "0                 260          3196872127         carnolld          False  \n",
       "1                  22  820308956518219776       kschool713          False  \n",
       "2                1437           112917372        KoozieMan          False  \n",
       "3                  54           529066803  thatsarahkeenan          False  \n",
       "4                 780           245918943      zoli_bojtos          False  "
      ]
     },
     "execution_count": 40,
     "metadata": {},
     "output_type": "execute_result"
    }
   ],
   "source": [
    "retweet_posts.toPandas().head()"
   ]
  },
  {
   "cell_type": "markdown",
   "metadata": {},
   "source": [
    "### Take one story"
   ]
  },
  {
   "cell_type": "code",
   "execution_count": 49,
   "metadata": {},
   "outputs": [
    {
     "data": {
      "text/html": [
       "<div>\n",
       "<style scoped>\n",
       "    .dataframe tbody tr th:only-of-type {\n",
       "        vertical-align: middle;\n",
       "    }\n",
       "\n",
       "    .dataframe tbody tr th {\n",
       "        vertical-align: top;\n",
       "    }\n",
       "\n",
       "    .dataframe thead th {\n",
       "        text-align: right;\n",
       "    }\n",
       "</style>\n",
       "<table border=\"1\" class=\"dataframe\">\n",
       "  <thead>\n",
       "    <tr style=\"text-align: right;\">\n",
       "      <th></th>\n",
       "      <th>created_at</th>\n",
       "      <th>id</th>\n",
       "      <th>in_reply_to_screen_name</th>\n",
       "      <th>in_reply_to_status_id</th>\n",
       "      <th>in_reply_to_user_id</th>\n",
       "      <th>retweet_status</th>\n",
       "      <th>text</th>\n",
       "      <th>user_followers_count</th>\n",
       "      <th>user_friends_count</th>\n",
       "      <th>user_id</th>\n",
       "      <th>user_screen_name</th>\n",
       "      <th>user_verified</th>\n",
       "    </tr>\n",
       "  </thead>\n",
       "  <tbody>\n",
       "    <tr>\n",
       "      <th>0</th>\n",
       "      <td>2019-02-11T21:46:50.000Z</td>\n",
       "      <td>1095076720347172865</td>\n",
       "      <td>TheOnion</td>\n",
       "      <td>None</td>\n",
       "      <td>14075928.0</td>\n",
       "      <td>None</td>\n",
       "      <td>@TheOnion \\n\\n  Scientists Reveal Everything's...</td>\n",
       "      <td>0</td>\n",
       "      <td>0</td>\n",
       "      <td>1093453828492537857</td>\n",
       "      <td>LeitgebWalter</td>\n",
       "      <td>False</td>\n",
       "    </tr>\n",
       "    <tr>\n",
       "      <th>1</th>\n",
       "      <td>2019-02-12T00:29:02.000Z</td>\n",
       "      <td>1095117541448531970</td>\n",
       "      <td>None</td>\n",
       "      <td>None</td>\n",
       "      <td>NaN</td>\n",
       "      <td>None</td>\n",
       "      <td>Man To Continue Slowly Drifting Into Middle Of...</td>\n",
       "      <td>11028976</td>\n",
       "      <td>14</td>\n",
       "      <td>14075928</td>\n",
       "      <td>TheOnion</td>\n",
       "      <td>True</td>\n",
       "    </tr>\n",
       "    <tr>\n",
       "      <th>2</th>\n",
       "      <td>2019-02-12T21:06:30.000Z</td>\n",
       "      <td>1095428960543035393</td>\n",
       "      <td>BreitbartNews</td>\n",
       "      <td>None</td>\n",
       "      <td>457984599.0</td>\n",
       "      <td>None</td>\n",
       "      <td>@BreitbartNews YOUR GREEN NEW DEAL MODE OF TRA...</td>\n",
       "      <td>124</td>\n",
       "      <td>719</td>\n",
       "      <td>339873267</td>\n",
       "      <td>cdpoling</td>\n",
       "      <td>False</td>\n",
       "    </tr>\n",
       "    <tr>\n",
       "      <th>3</th>\n",
       "      <td>2019-02-13T00:31:27.000Z</td>\n",
       "      <td>1095480534170460161</td>\n",
       "      <td>BreitbartNews</td>\n",
       "      <td>None</td>\n",
       "      <td>457984599.0</td>\n",
       "      <td>None</td>\n",
       "      <td>@BreitbartNews Update: NYC T-Mobile store robb...</td>\n",
       "      <td>25</td>\n",
       "      <td>91</td>\n",
       "      <td>786758315858464768</td>\n",
       "      <td>Dwightsrealnews</td>\n",
       "      <td>False</td>\n",
       "    </tr>\n",
       "    <tr>\n",
       "      <th>4</th>\n",
       "      <td>2019-02-13T15:22:15.000Z</td>\n",
       "      <td>1095704714199605248</td>\n",
       "      <td>None</td>\n",
       "      <td>None</td>\n",
       "      <td>NaN</td>\n",
       "      <td>None</td>\n",
       "      <td>Death Cult Democrats: Killing newborn babies t...</td>\n",
       "      <td>14872</td>\n",
       "      <td>2412</td>\n",
       "      <td>76227785</td>\n",
       "      <td>DCClothesline</td>\n",
       "      <td>False</td>\n",
       "    </tr>\n",
       "  </tbody>\n",
       "</table>\n",
       "</div>"
      ],
      "text/plain": [
       "                 created_at                   id in_reply_to_screen_name  \\\n",
       "0  2019-02-11T21:46:50.000Z  1095076720347172865                TheOnion   \n",
       "1  2019-02-12T00:29:02.000Z  1095117541448531970                    None   \n",
       "2  2019-02-12T21:06:30.000Z  1095428960543035393           BreitbartNews   \n",
       "3  2019-02-13T00:31:27.000Z  1095480534170460161           BreitbartNews   \n",
       "4  2019-02-13T15:22:15.000Z  1095704714199605248                    None   \n",
       "\n",
       "  in_reply_to_status_id  in_reply_to_user_id retweet_status  \\\n",
       "0                  None           14075928.0           None   \n",
       "1                  None                  NaN           None   \n",
       "2                  None          457984599.0           None   \n",
       "3                  None          457984599.0           None   \n",
       "4                  None                  NaN           None   \n",
       "\n",
       "                                                text  user_followers_count  \\\n",
       "0  @TheOnion \\n\\n  Scientists Reveal Everything's...                     0   \n",
       "1  Man To Continue Slowly Drifting Into Middle Of...              11028976   \n",
       "2  @BreitbartNews YOUR GREEN NEW DEAL MODE OF TRA...                   124   \n",
       "3  @BreitbartNews Update: NYC T-Mobile store robb...                    25   \n",
       "4  Death Cult Democrats: Killing newborn babies t...                 14872   \n",
       "\n",
       "   user_friends_count              user_id user_screen_name  user_verified  \n",
       "0                   0  1093453828492537857    LeitgebWalter          False  \n",
       "1                  14             14075928         TheOnion           True  \n",
       "2                 719            339873267         cdpoling          False  \n",
       "3                  91   786758315858464768  Dwightsrealnews          False  \n",
       "4                2412             76227785    DCClothesline          False  "
      ]
     },
     "execution_count": 49,
     "metadata": {},
     "output_type": "execute_result"
    }
   ],
   "source": [
    "spark.sql(\"SELECT * FROM original_posts LIMIT 10\").toPandas().head()"
   ]
  },
  {
   "cell_type": "code",
   "execution_count": 84,
   "metadata": {},
   "outputs": [
    {
     "data": {
      "text/plain": [
       "4"
      ]
     },
     "execution_count": 84,
     "metadata": {},
     "output_type": "execute_result"
    }
   ],
   "source": [
    "spark.sql(\n",
    "    \"\"\"\n",
    "        SELECT * \n",
    "        FROM retweet_posts \n",
    "        WHERE retweet_status.retweet_status_id = 1095704714199605248\n",
    "        ORDER BY created_at\n",
    "    \"\"\").count()"
   ]
  },
  {
   "cell_type": "markdown",
   "metadata": {},
   "source": [
    "### Remove tweets with no retweets"
   ]
  },
  {
   "cell_type": "code",
   "execution_count": 85,
   "metadata": {},
   "outputs": [
    {
     "data": {
      "text/plain": [
       "242"
      ]
     },
     "execution_count": 85,
     "metadata": {},
     "output_type": "execute_result"
    }
   ],
   "source": [
    "spark.sql(\n",
    "    \"\"\"\n",
    "        SELECT * FROM original_posts\n",
    "        WHERE id NOT IN (SELECT retweet_posts.retweet_status.retweet_status_id FROM retweet_posts)\n",
    "    \"\"\").count()"
   ]
  },
  {
   "cell_type": "code",
   "execution_count": 92,
   "metadata": {},
   "outputs": [],
   "source": [
    "tweets_with_no_retweets = spark.sql(\n",
    "    \"\"\"\n",
    "        SELECT * FROM original_posts\n",
    "        WHERE id NOT IN (SELECT retweet_posts.retweet_status.retweet_status_id FROM retweet_posts)\n",
    "    \"\"\")"
   ]
  },
  {
   "cell_type": "code",
   "execution_count": 94,
   "metadata": {},
   "outputs": [
    {
     "data": {
      "text/plain": [
       "242"
      ]
     },
     "execution_count": 94,
     "metadata": {},
     "output_type": "execute_result"
    }
   ],
   "source": [
    "tweets_with_no_retweets.count()"
   ]
  },
  {
   "cell_type": "code",
   "execution_count": 95,
   "metadata": {},
   "outputs": [],
   "source": [
    "tweets_with_no_retweets.createOrReplaceTempView('tweets_with_no_retweets')"
   ]
  },
  {
   "cell_type": "code",
   "execution_count": 106,
   "metadata": {},
   "outputs": [],
   "source": [
    "original_posts = spark.sql(\n",
    "    \"\"\"\n",
    "        SELECT *\n",
    "        FROM original_posts\n",
    "        WHERE id NOT IN (SELECT id FROM tweets_with_no_retweets)\n",
    "    \"\"\")"
   ]
  },
  {
   "cell_type": "code",
   "execution_count": 107,
   "metadata": {},
   "outputs": [],
   "source": [
    "original_posts.createOrReplaceTempView('original_posts')"
   ]
  },
  {
   "cell_type": "code",
   "execution_count": 108,
   "metadata": {},
   "outputs": [
    {
     "data": {
      "text/html": [
       "<div>\n",
       "<style scoped>\n",
       "    .dataframe tbody tr th:only-of-type {\n",
       "        vertical-align: middle;\n",
       "    }\n",
       "\n",
       "    .dataframe tbody tr th {\n",
       "        vertical-align: top;\n",
       "    }\n",
       "\n",
       "    .dataframe thead th {\n",
       "        text-align: right;\n",
       "    }\n",
       "</style>\n",
       "<table border=\"1\" class=\"dataframe\">\n",
       "  <thead>\n",
       "    <tr style=\"text-align: right;\">\n",
       "      <th></th>\n",
       "      <th>created_at</th>\n",
       "      <th>id</th>\n",
       "      <th>in_reply_to_screen_name</th>\n",
       "      <th>in_reply_to_status_id</th>\n",
       "      <th>in_reply_to_user_id</th>\n",
       "      <th>retweet_status</th>\n",
       "      <th>text</th>\n",
       "      <th>user_followers_count</th>\n",
       "      <th>user_friends_count</th>\n",
       "      <th>user_id</th>\n",
       "      <th>user_screen_name</th>\n",
       "      <th>user_verified</th>\n",
       "    </tr>\n",
       "  </thead>\n",
       "  <tbody>\n",
       "    <tr>\n",
       "      <th>0</th>\n",
       "      <td>2019-02-12T00:29:02.000Z</td>\n",
       "      <td>1095117541448531970</td>\n",
       "      <td>None</td>\n",
       "      <td>None</td>\n",
       "      <td>None</td>\n",
       "      <td>None</td>\n",
       "      <td>Man To Continue Slowly Drifting Into Middle Of...</td>\n",
       "      <td>11028976</td>\n",
       "      <td>14</td>\n",
       "      <td>14075928</td>\n",
       "      <td>TheOnion</td>\n",
       "      <td>True</td>\n",
       "    </tr>\n",
       "    <tr>\n",
       "      <th>1</th>\n",
       "      <td>2019-02-13T15:22:15.000Z</td>\n",
       "      <td>1095704714199605248</td>\n",
       "      <td>None</td>\n",
       "      <td>None</td>\n",
       "      <td>None</td>\n",
       "      <td>None</td>\n",
       "      <td>Death Cult Democrats: Killing newborn babies t...</td>\n",
       "      <td>14872</td>\n",
       "      <td>2412</td>\n",
       "      <td>76227785</td>\n",
       "      <td>DCClothesline</td>\n",
       "      <td>False</td>\n",
       "    </tr>\n",
       "    <tr>\n",
       "      <th>2</th>\n",
       "      <td>2019-02-14T01:21:00.000Z</td>\n",
       "      <td>1095855394994511872</td>\n",
       "      <td>None</td>\n",
       "      <td>None</td>\n",
       "      <td>None</td>\n",
       "      <td>None</td>\n",
       "      <td>David Corn says Paul Manafort's recently revea...</td>\n",
       "      <td>68444</td>\n",
       "      <td>4027</td>\n",
       "      <td>14792049</td>\n",
       "      <td>politicususa</td>\n",
       "      <td>False</td>\n",
       "    </tr>\n",
       "    <tr>\n",
       "      <th>3</th>\n",
       "      <td>2019-02-12T06:23:26.000Z</td>\n",
       "      <td>1095206727643992064</td>\n",
       "      <td>None</td>\n",
       "      <td>None</td>\n",
       "      <td>None</td>\n",
       "      <td>None</td>\n",
       "      <td>South Carolina: Man Converts To Islam – Plants...</td>\n",
       "      <td>14867</td>\n",
       "      <td>2413</td>\n",
       "      <td>76227785</td>\n",
       "      <td>DCClothesline</td>\n",
       "      <td>False</td>\n",
       "    </tr>\n",
       "    <tr>\n",
       "      <th>4</th>\n",
       "      <td>2019-02-14T00:11:22.000Z</td>\n",
       "      <td>1095837870428954624</td>\n",
       "      <td>None</td>\n",
       "      <td>None</td>\n",
       "      <td>None</td>\n",
       "      <td>None</td>\n",
       "      <td>Montana Couple Has Ranch Taken Without Due Pro...</td>\n",
       "      <td>14871</td>\n",
       "      <td>2412</td>\n",
       "      <td>76227785</td>\n",
       "      <td>DCClothesline</td>\n",
       "      <td>False</td>\n",
       "    </tr>\n",
       "  </tbody>\n",
       "</table>\n",
       "</div>"
      ],
      "text/plain": [
       "                 created_at                   id in_reply_to_screen_name  \\\n",
       "0  2019-02-12T00:29:02.000Z  1095117541448531970                    None   \n",
       "1  2019-02-13T15:22:15.000Z  1095704714199605248                    None   \n",
       "2  2019-02-14T01:21:00.000Z  1095855394994511872                    None   \n",
       "3  2019-02-12T06:23:26.000Z  1095206727643992064                    None   \n",
       "4  2019-02-14T00:11:22.000Z  1095837870428954624                    None   \n",
       "\n",
       "  in_reply_to_status_id in_reply_to_user_id retweet_status  \\\n",
       "0                  None                None           None   \n",
       "1                  None                None           None   \n",
       "2                  None                None           None   \n",
       "3                  None                None           None   \n",
       "4                  None                None           None   \n",
       "\n",
       "                                                text  user_followers_count  \\\n",
       "0  Man To Continue Slowly Drifting Into Middle Of...              11028976   \n",
       "1  Death Cult Democrats: Killing newborn babies t...                 14872   \n",
       "2  David Corn says Paul Manafort's recently revea...                 68444   \n",
       "3  South Carolina: Man Converts To Islam – Plants...                 14867   \n",
       "4  Montana Couple Has Ranch Taken Without Due Pro...                 14871   \n",
       "\n",
       "   user_friends_count   user_id user_screen_name  user_verified  \n",
       "0                  14  14075928         TheOnion           True  \n",
       "1                2412  76227785    DCClothesline          False  \n",
       "2                4027  14792049     politicususa          False  \n",
       "3                2413  76227785    DCClothesline          False  \n",
       "4                2412  76227785    DCClothesline          False  "
      ]
     },
     "execution_count": 108,
     "metadata": {},
     "output_type": "execute_result"
    }
   ],
   "source": [
    "spark.sql(\"SELECT * FROM original_posts\").toPandas().head()"
   ]
  },
  {
   "cell_type": "code",
   "execution_count": 109,
   "metadata": {},
   "outputs": [
    {
     "data": {
      "text/plain": [
       "163"
      ]
     },
     "execution_count": 109,
     "metadata": {},
     "output_type": "execute_result"
    }
   ],
   "source": [
    "spark.sql(\n",
    "    \"\"\"\n",
    "        SELECT * \n",
    "        FROM retweet_posts \n",
    "        WHERE retweet_status.retweet_status_id = 1095117541448531970\n",
    "        ORDER BY created_at\n",
    "    \"\"\").count()"
   ]
  },
  {
   "cell_type": "code",
   "execution_count": 110,
   "metadata": {},
   "outputs": [
    {
     "data": {
      "text/plain": [
       "4"
      ]
     },
     "execution_count": 110,
     "metadata": {},
     "output_type": "execute_result"
    }
   ],
   "source": [
    "spark.sql(\n",
    "    \"\"\"\n",
    "        SELECT * \n",
    "        FROM retweet_posts \n",
    "        WHERE retweet_status.retweet_status_id = 1095704714199605248\n",
    "        ORDER BY created_at\n",
    "    \"\"\").count()"
   ]
  },
  {
   "cell_type": "code",
   "execution_count": 111,
   "metadata": {},
   "outputs": [
    {
     "data": {
      "text/plain": [
       "84"
      ]
     },
     "execution_count": 111,
     "metadata": {},
     "output_type": "execute_result"
    }
   ],
   "source": [
    "spark.sql(\n",
    "    \"\"\"\n",
    "        SELECT * \n",
    "        FROM retweet_posts \n",
    "        WHERE retweet_status.retweet_status_id = 1095855394994511872\n",
    "        ORDER BY created_at\n",
    "    \"\"\").count()"
   ]
  },
  {
   "cell_type": "code",
   "execution_count": 112,
   "metadata": {},
   "outputs": [
    {
     "data": {
      "text/plain": [
       "2"
      ]
     },
     "execution_count": 112,
     "metadata": {},
     "output_type": "execute_result"
    }
   ],
   "source": [
    "spark.sql(\n",
    "    \"\"\"\n",
    "        SELECT * \n",
    "        FROM retweet_posts \n",
    "        WHERE retweet_status.retweet_status_id = 1095206727643992064\n",
    "        ORDER BY created_at\n",
    "    \"\"\").count()"
   ]
  },
  {
   "cell_type": "code",
   "execution_count": 113,
   "metadata": {},
   "outputs": [
    {
     "data": {
      "text/plain": [
       "1"
      ]
     },
     "execution_count": 113,
     "metadata": {},
     "output_type": "execute_result"
    }
   ],
   "source": [
    "spark.sql(\n",
    "    \"\"\"\n",
    "        SELECT * \n",
    "        FROM retweet_posts \n",
    "        WHERE retweet_status.retweet_status_id = 1095837870428954624\n",
    "        ORDER BY created_at\n",
    "    \"\"\").count()"
   ]
  },
  {
   "cell_type": "code",
   "execution_count": 114,
   "metadata": {},
   "outputs": [],
   "source": [
    "original_posts.write.json('original_posts.json')"
   ]
  },
  {
   "cell_type": "code",
   "execution_count": 118,
   "metadata": {},
   "outputs": [],
   "source": [
    "original_posts.coalesce(1).write.format('json').save('original_posts.json')"
   ]
  },
  {
   "cell_type": "code",
   "execution_count": 119,
   "metadata": {},
   "outputs": [],
   "source": [
    "retweet_posts.coalesce(1).write.format('json').save('retweet_posts.json')"
   ]
  },
  {
   "cell_type": "code",
   "execution_count": null,
   "metadata": {},
   "outputs": [],
   "source": []
  }
 ],
 "metadata": {
  "kernelspec": {
   "display_name": "Python 3",
   "language": "python",
   "name": "python3"
  },
  "language_info": {
   "codemirror_mode": {
    "name": "ipython",
    "version": 3
   },
   "file_extension": ".py",
   "mimetype": "text/x-python",
   "name": "python",
   "nbconvert_exporter": "python",
   "pygments_lexer": "ipython3",
   "version": "3.7.1"
  }
 },
 "nbformat": 4,
 "nbformat_minor": 2
}
